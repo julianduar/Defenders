{
 "cells": [
  {
   "cell_type": "markdown",
   "metadata": {},
   "source": [
    "# Análisis del asesinato de líderes sociales después de la firma del acuerdo de Paz con las FARC\n",
    "Julian Peña Duarte\n",
    "\n",
    "27-Mayo-2021"
   ]
  },
  {
   "cell_type": "markdown",
   "metadata": {},
   "source": [
    "---"
   ]
  },
  {
   "cell_type": "markdown",
   "metadata": {},
   "source": [
    "## Descripción y motivación "
   ]
  },
  {
   "cell_type": "markdown",
   "metadata": {},
   "source": [
    "Latinoamérica y en especial Colombia enfrentan una problemática social abrumadora: el asesinato sistemático de líderes sociales. Este fenómeno no es algo nuevo, pues un rasgo distintivo del conflicto armado en Colombia ha sido el asesinato de líderes sociales.  A pesar de que Colombia cuenta con la Unidad Nacional de Protección (entidad encargada de proteger a los defensores de derechos humanos) y que en 2016 se firmó el acuerdo de Paz con las FARC, diversas organizaciones han denunciado que el asesinato de líderes sociales ha venido incrementando. De hecho, en 2020 Colombia aportó más del 50% de asesinatos de defensores de derechos humanos en el mundo según Front Line Defenders (2020).\n",
    "\n",
    "El objetivo del proyecto de investigación es presentar un análisis del asesinato de líderes sociales después de la firma del acuerdo de Paz.  Para lograrlo se usó de fuente principal los informes que publica el programa “Somos Defensores” desde enero de 2016 a junio de 2020.  En estos informes se publican las bases de los líderes sociales asesinados en un formato pdf. Por consiguiente, se utilizó scraping para conformar las bases de datos. Asimismo, se usaron datos de la policía nacional y del DANE para obtener la tasa de homicidios por cada 100 mil habitantes. Esto con el fin de contrastar los datos con el número de líderes asesinados por departamento.\n",
    "\n",
    "Algunas preguntas que motivaron el proyecto son :\n",
    "\n",
    "- ¿Cuál es la serie de tiempo desde 2016 hasta junio de 2020 del asesinato de lideres sociales? ¿cuál es su relación con la tasa de homicidios por cada 100 mil habitantes?\n",
    "- ¿Cuáles son los departamentos más afectados por esta problemática?\n",
    "- ¿Quiénes son los presuntos responsables de estos asesinatos?\n",
    "- ¿En qué días del mes/semana se presentan más asesinatos?\n",
    "- ¿Qué relación tienen los asesinatos con las zonas de cultivos ilícitos?\n",
    "- ¿Cuál es el apoyo del gobierno de Duque a los líderes sociales?"
   ]
  },
  {
   "cell_type": "markdown",
   "metadata": {},
   "source": [
    "## Métodos usados"
   ]
  },
  {
   "cell_type": "markdown",
   "metadata": {},
   "source": [
    "\n",
    "\n",
    "1. Scraping\n",
    "    - Los informes originales del programa Somos Defensores están disponibles en: https://somosdefensores.org/\n",
    "    - Los archivos pdf  a scrapear están en la carpeta: asesinatos lideres(datos).\n",
    "    - Para scrapear los pdf se usó la librería Camelot, la cual permite guardar todas las paginas del pdf en una lista de tablas.\n",
    "    - El código de Python está disponible [Aquí](Creacion_bases_lideres.ipynb).\n",
    "<br><br>\n",
    "2. Depuración, conformación y manejo de los datos\n",
    "\n",
    "    - Para los datos de Somos Defensores\n",
    "        - Se usó la librería Pandas para crear una base de datos por cada archivo pdf. Luego se unieron todas las bases de datos para conformar la base de datos final.\n",
    "        - Para el proceso de depuración se utilizaron métodos de Pandas, métodos de Strings, expresiones regulares, métodos de numpy, unidecode, etc.\n",
    "        - El código de Python está disponible [Aquí](Creacion_bases_lideres.ipynb).\n",
    "        <br><br>\n",
    "    - Para los datos de la policía y del DANE\n",
    "        - Los datos de la policía se encuentran disponibles en formato Excel en: https://www.policia.gov.co/delitos-de-impacto/homicidios. \n",
    "        - La base de datos del DANE de las proyecciones de la población por departamento y año estaba conformada previamente. \n",
    "        - Se usó la librearía “os”, con el fin de cambiar el directorio y obtener el nombre de los archivos dentro del nuevo directorio.\n",
    "        - También se uso pandas, para unir todos los archivos de Excel en un solo archivo.  Luego, se usó el método “groupby” para agrupar los datos por departamento y año con el objetivo de unir horizontalmente la base de los asesinatos y la base del DANE.\n",
    "        - El código de Python está disponible [Aquí](creacion_bases_homicidios.ipynb).\n",
    "<br><br>\n",
    "3. Visualización:\n",
    "    - Para la creación de los gráficos se usaron principalmente las librerías matplotlib y seaborn.\n",
    "    - El código de Python está disponible [Aquí](graficos.ipynb).\n"
   ]
  },
  {
   "cell_type": "markdown",
   "metadata": {},
   "source": [
    "## Hallazgos importantes"
   ]
  },
  {
   "cell_type": "markdown",
   "metadata": {},
   "source": [
    "\n",
    "- Después del acuerdo de paz aumentó dramáticamente el asesinato de líderes sociales y esto no se debe a un aumento general de los homicidios. \n",
    "- El líder social más afectado es el líder comunal.\n",
    "- Los departamentos más afectados son: Cauca, Antioquia y Norte de Santander.\n",
    "- En un gran porcentaje de los casos (64.29 %) no se conoce al presunto responsable.\n",
    "- El día de la semana más peligroso para los líderes es el domingo.\n",
    "- El día del mes más peligroso para los líderes es el segundo.\n",
    "\n"
   ]
  },
  {
   "cell_type": "markdown",
   "metadata": {},
   "source": [
    "Algunas visualizaciones de los hallazgos:"
   ]
  },
  {
   "cell_type": "markdown",
   "metadata": {},
   "source": [
    "Serie de tiempo de los líderes sociales asesinados vs el número de homicidios"
   ]
  },
  {
   "cell_type": "markdown",
   "metadata": {},
   "source": [
    "<img src=\"graficos/Number of  killings of human rights defenders vs homicides.jpg\">"
   ]
  },
  {
   "cell_type": "markdown",
   "metadata": {},
   "source": [
    "Principales categorías de los líderes asesinados"
   ]
  },
  {
   "cell_type": "markdown",
   "metadata": {},
   "source": [
    "<img src=\"graficos/defender_type_percent.jpg\">"
   ]
  },
  {
   "cell_type": "markdown",
   "metadata": {},
   "source": [
    "<img src=\"graficos/Number of  killings by type of defender.png\">"
   ]
  },
  {
   "cell_type": "markdown",
   "metadata": {},
   "source": [
    "Departamentos más afectados vs tasa de homicidios promedio"
   ]
  },
  {
   "cell_type": "markdown",
   "metadata": {},
   "source": [
    "<img src=\"graficos/defenders_homicides.jpg\">"
   ]
  },
  {
   "cell_type": "markdown",
   "metadata": {},
   "source": [
    "Presuntos responsables \n",
    "\n"
   ]
  },
  {
   "cell_type": "markdown",
   "metadata": {},
   "source": [
    "<img src=\"graficos/presumed responsible1.jpg\">"
   ]
  },
  {
   "cell_type": "markdown",
   "metadata": {},
   "source": [
    "Asesinatos de líderes según el día del mes"
   ]
  },
  {
   "cell_type": "markdown",
   "metadata": {
    "collapsed": true
   },
   "source": [
    "<img src=\"graficos/Number of  killings by day.png\">"
   ]
  },
  {
   "cell_type": "markdown",
   "metadata": {},
   "source": [
    "---"
   ]
  }
 ],
 "metadata": {
  "kernelspec": {
   "display_name": "Python 3",
   "language": "python",
   "name": "python3"
  },
  "language_info": {
   "codemirror_mode": {
    "name": "ipython",
    "version": 3
   },
   "file_extension": ".py",
   "mimetype": "text/x-python",
   "name": "python",
   "nbconvert_exporter": "python",
   "pygments_lexer": "ipython3",
   "version": "3.8.5"
  }
 },
 "nbformat": 4,
 "nbformat_minor": 1
}
